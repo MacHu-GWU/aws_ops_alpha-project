{
 "cells": [
  {
   "cell_type": "markdown",
   "id": "e572b724-8a4a-4647-81a3-08c2d6fd2e04",
   "metadata": {},
   "source": [
    "# aws_ops_alpha.multi_env"
   ]
  },
  {
   "cell_type": "code",
   "execution_count": 1,
   "id": "bb989357-d9ee-40ee-a48c-b8431fb88572",
   "metadata": {},
   "outputs": [
    {
     "ename": "ModuleNotFoundError",
     "evalue": "No module named 'aws_ops_alpha'",
     "output_type": "error",
     "traceback": [
      "\u001b[0;31m---------------------------------------------------------------------------\u001b[0m",
      "\u001b[0;31mModuleNotFoundError\u001b[0m                       Traceback (most recent call last)",
      "Cell \u001b[0;32mIn[1], line 1\u001b[0m\n\u001b[0;32m----> 1\u001b[0m \u001b[38;5;28;01mfrom\u001b[39;00m \u001b[38;5;21;01maws_ops_alpha\u001b[39;00m\u001b[38;5;21;01m.\u001b[39;00m\u001b[38;5;21;01mmulti_env\u001b[39;00m\u001b[38;5;21;01m.\u001b[39;00m\u001b[38;5;21;01mapi\u001b[39;00m \u001b[38;5;28;01mimport\u001b[39;00m (\n\u001b[1;32m      2\u001b[0m     BaseEnvNameEnum,\n\u001b[1;32m      3\u001b[0m     env_emoji_mapper,\n\u001b[1;32m      4\u001b[0m     EnvNameEnum,\n\u001b[1;32m      5\u001b[0m     detect_current_env,\n\u001b[1;32m      6\u001b[0m )\n",
      "\u001b[0;31mModuleNotFoundError\u001b[0m: No module named 'aws_ops_alpha'"
     ]
    }
   ],
   "source": [
    "from aws_ops_alpha.multi_env.api import (\n",
    "    BaseEnvNameEnum,\n",
    "    env_emoji_mapper,\n",
    "    EnvNameEnum,\n",
    "    detect_current_env,\n",
    ")"
   ]
  },
  {
   "cell_type": "code",
   "execution_count": 2,
   "id": "f610515c-a8e5-4ac2-bea5-9a5ab67a0269",
   "metadata": {},
   "outputs": [
    {
     "data": {
      "text/plain": [
       "'/Users/sanhehu/.pyenv/versions/3.8.13/bin/python3.8'"
      ]
     },
     "execution_count": 2,
     "metadata": {},
     "output_type": "execute_result"
    }
   ],
   "source": [
    "import sys\n",
    "sys.executable"
   ]
  },
  {
   "cell_type": "code",
   "execution_count": null,
   "id": "88b49c39-8c54-4c36-8d79-a18788134c5f",
   "metadata": {},
   "outputs": [],
   "source": []
  }
 ],
 "metadata": {
  "kernelspec": {
   "display_name": "Python 3 (ipykernel)",
   "language": "python",
   "name": "python3"
  },
  "language_info": {
   "codemirror_mode": {
    "name": "ipython",
    "version": 3
   },
   "file_extension": ".py",
   "mimetype": "text/x-python",
   "name": "python",
   "nbconvert_exporter": "python",
   "pygments_lexer": "ipython3",
   "version": "3.8.13"
  }
 },
 "nbformat": 4,
 "nbformat_minor": 5
}
