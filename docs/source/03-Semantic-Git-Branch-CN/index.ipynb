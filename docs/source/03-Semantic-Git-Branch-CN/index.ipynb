{
 "cells": [
  {
   "cell_type": "markdown",
   "id": "44cb682b-7d48-4287-9639-97417d153533",
   "metadata": {
    "editable": true,
    "slideshow": {
     "slide_type": ""
    },
    "tags": []
   },
   "source": [
    "# Semantic Git Branching (CN)\n",
    "\n",
    "\n",
    "## What is and Why Semantic Git Branching\n",
    "\n",
    "Semantic Git Branch 是一种在赋予 Git branch name 一定的语义的最佳实践. 这些语义可以用来在 DevOps 或业务逻辑中进行条件判断. 在某些 branch 下是一种流程, 在另一个 branch 下是另一个流程."
   ]
  },
  {
   "cell_type": "raw",
   "id": "25cccf03-79c6-42e4-9a92-a33bdf983f02",
   "metadata": {
    "editable": true,
    "raw_mimetype": "text/restructuredtext",
    "slideshow": {
     "slide_type": ""
    },
    "tags": []
   },
   "source": [
    "举例来说, 我们希望在任何名字类似于 ``feat``, ``feature/description``, ``feature-123/description`` 的 Git branch 都被视为 :bdg-success:`feature` branch. 而在 feature branch 上我们的 CI 只负责对代码进行 unit test. 什么 artifacts 的构建, deployment 之类的一概不做.  而名字为 ``app/description`` 的 Git branch 被视为 :bdg-warning:`app` branch, 在 app branch 上我们除了进行 unit test, 还会部署 App, 以及进行 integration test.\n",
    "\n",
    "在上面的例子中, :bdg-success:`feature` 和 :bdg-warning:`app` 就是 semantic name, 也就是语义."
   ]
  },
  {
   "cell_type": "markdown",
   "id": "1cbaac5d-f3ff-4a0d-aff2-82910c0cab04",
   "metadata": {
    "editable": true,
    "slideshow": {
     "slide_type": ""
    },
    "tags": []
   },
   "source": [
    "这种项代码管理规范能降低团队成员的沟通成本, 看到 branch 名字不用沟通就知道大概做了什么. 同时也能减少犯错, 因为我们可以制定一些规则, 定义在各种 semantic name 下做什么, 不做什么. 然后用自动化脚本来实现这一规则.\n",
    "\n",
    "## Semantic Branch in aws_ops_alphas\n",
    "\n",
    "在本项目中, 我们提供了一套工具用于从 Git branch 名字中解析 semantic name, 以及各种例如提取 commit id, 提取 commit message 等常用自动化功能. 除此之外, 还提供了一套 rule engine, 允许用户在 Excel 表中用 truth table 二维表来定义在各种 semantic name 下做什么, 不做什么. 避免了因为业务规则变了, 于是要更改和维护一堆 if else 代码的痛点, 因为有了 rule engine, 用户只需要把 Excel 中的数据拷贝到对应的 ``.tsv`` 文件中就行了.\n",
    "\n",
    "## How to Define My Own Semantic Branching Rules\n",
    "\n",
    "在本项目中, 我们并不强迫用户使用任何我们认为最优的 Semantic Branching 规则. 我们只是提供了一套工具, 以及一些对于不同类型的项目, 例如公司内部 Python 库类型的项目, 例如 AWS Lambda 项目的情况下, 我们认为最优的规则, 并以 Python 模块的形式. 用户可以选择用我们提供的规则, 也可以自定义规则."
   ]
  },
  {
   "cell_type": "raw",
   "id": "caefe3e3-e0c9-4ffe-b97f-2840cc4f0810",
   "metadata": {
    "editable": true,
    "raw_mimetype": "text/restructuredtext",
    "slideshow": {
     "slide_type": ""
    },
    "tags": []
   },
   "source": [
    "例如下面是公司内部 Python 库类型的项目的规则 (排版可能不太好, 请复制到 Excel 中查看效果更佳)\n",
    "\n",
    ".. literalinclude:: ../../../aws_ops_alpha/project/simple_python/git_branch_name.tsv\n",
    "   :language: csv\n",
    "   :linenos:\n",
    "\n",
    "例如下面是 AWS Lambda 项目的规则\n",
    "\n",
    ".. literalinclude:: ../../../aws_ops_alpha/project/simple_lambda/git_branch_name.tsv\n",
    "   :language: csv\n",
    "   :linenos:\n"
   ]
  },
  {
   "cell_type": "markdown",
   "id": "d668af44-b957-4839-812d-9462d3ac9646",
   "metadata": {
    "editable": true,
    "slideshow": {
     "slide_type": ""
    },
    "tags": []
   },
   "source": [
    "**下面我们介绍如何用本项目提供的工具自定义 Semantic Branching Rules**\n",
    "\n",
    "举例, 我们在维护一个简单的 Python 项目. 这个项目的工作流有:\n",
    "\n",
    "1. 安装依赖\n",
    "2. 运行测试\n",
    "3. 发布文档\n",
    "4. 发布新版本"
   ]
  },
  {
   "cell_type": "raw",
   "id": "2da94b03-c22d-4301-ba65-6bb803652be1",
   "metadata": {
    "editable": true,
    "raw_mimetype": "text/restructuredtext",
    "slideshow": {
     "slide_type": ""
    },
    "tags": []
   },
   "source": [
    "我们规定用 main 和 feature branch 来运行测试, 用 doc branch 来发布文档, 用 release branch 来发布新版本. 这时我们可以用 :class:`~aws_ops_alpha.vendor.semantic_branch.SemanticBranchRule` 类来定义一套规则, 使得我们能从 full git branch name 中提取 semantic name."
   ]
  },
  {
   "cell_type": "code",
   "execution_count": 10,
   "id": "091aca68-d66a-42e7-b9ba-17c1fecb22c6",
   "metadata": {
    "editable": true,
    "slideshow": {
     "slide_type": ""
    },
    "tags": []
   },
   "outputs": [],
   "source": [
    "import aws_ops_alpha.api as aws_ops_alpha\n",
    "\n",
    "semantic_branch_rules = aws_ops_alpha.SemanticBranchRule(\n",
    "    rules={\n",
    "        \"main\": [\"main\", \"master\"],\n",
    "        \"feature\": [\"feature\", \"feat\"],\n",
    "        \"release\": [\"release\", \"rls\"],\n",
    "    },\n",
    ")"
   ]
  },
  {
   "cell_type": "code",
   "execution_count": 8,
   "id": "12191767-5c0a-4df2-82e3-126e374820a1",
   "metadata": {
    "editable": true,
    "slideshow": {
     "slide_type": ""
    },
    "tags": []
   },
   "outputs": [
    {
     "data": {
      "text/plain": [
       "'main'"
      ]
     },
     "execution_count": 8,
     "metadata": {},
     "output_type": "execute_result"
    }
   ],
   "source": [
    "# parse semantic name from full git branch name\n",
    "semantic_branch_rules.parse_semantic_name(\"main\")"
   ]
  },
  {
   "cell_type": "code",
   "execution_count": 5,
   "id": "d218f588-55bb-4e85-9525-6a7e4ffd4879",
   "metadata": {
    "editable": true,
    "slideshow": {
     "slide_type": ""
    },
    "tags": []
   },
   "outputs": [
    {
     "data": {
      "text/plain": [
       "'main'"
      ]
     },
     "execution_count": 5,
     "metadata": {},
     "output_type": "execute_result"
    }
   ],
   "source": [
    "semantic_branch_rules.parse_semantic_name(\"master\")"
   ]
  },
  {
   "cell_type": "code",
   "execution_count": 6,
   "id": "df206e21-2442-4b60-a830-9595d0337057",
   "metadata": {
    "editable": true,
    "slideshow": {
     "slide_type": ""
    },
    "tags": []
   },
   "outputs": [
    {
     "data": {
      "text/plain": [
       "'feature'"
      ]
     },
     "execution_count": 6,
     "metadata": {},
     "output_type": "execute_result"
    }
   ],
   "source": [
    "semantic_branch_rules.parse_semantic_name(\"feature-123\")"
   ]
  },
  {
   "cell_type": "code",
   "execution_count": 7,
   "id": "f2b1ff8a-c85f-4ed6-b357-adaf5c5ce6d8",
   "metadata": {
    "editable": true,
    "slideshow": {
     "slide_type": ""
    },
    "tags": []
   },
   "outputs": [
    {
     "data": {
      "text/plain": [
       "'feature'"
      ]
     },
     "execution_count": 7,
     "metadata": {},
     "output_type": "execute_result"
    }
   ],
   "source": [
    "semantic_branch_rules.parse_semantic_name(\"feature/description\")"
   ]
  },
  {
   "cell_type": "raw",
   "id": "1ac7bff8-eeab-4800-951e-a8998a71a4d2",
   "metadata": {
    "editable": true,
    "raw_mimetype": "text/restructuredtext",
    "slideshow": {
     "slide_type": ""
    },
    "tags": []
   },
   "source": [
    "而假设我们使用的是 multi-repo, 也就是每个项目单独一个 git repo. 这时我们可以用 :class:`~aws_ops_alpha.git.impl.MultiGitRepo` 来创建一个 git repo 对象, 对 git 的各种信息进行访问."
   ]
  },
  {
   "cell_type": "code",
   "execution_count": 24,
   "id": "8556f977-09e3-4fd5-9db8-9143d580cdd2",
   "metadata": {
    "editable": true,
    "slideshow": {
     "slide_type": ""
    },
    "tags": []
   },
   "outputs": [],
   "source": [
    "git_repo = aws_ops_alpha.MultiGitRepo(sem_branch_rule=semantic_branch_rules)"
   ]
  },
  {
   "cell_type": "code",
   "execution_count": 28,
   "id": "64e03ad1-c2bc-4ae9-b848-b3f99c8c1b4c",
   "metadata": {
    "editable": true,
    "slideshow": {
     "slide_type": ""
    },
    "tags": []
   },
   "outputs": [
    {
     "data": {
      "text/plain": [
       "PosixPath('/Users/sanhehu/Documents/GitHub/aws_ops_alpha-project')"
      ]
     },
     "execution_count": 28,
     "metadata": {},
     "output_type": "execute_result"
    }
   ],
   "source": [
    "git_repo.dir_repo"
   ]
  },
  {
   "cell_type": "code",
   "execution_count": 25,
   "id": "73930720-56c1-4891-9673-da886fd0b412",
   "metadata": {
    "editable": true,
    "slideshow": {
     "slide_type": ""
    },
    "tags": []
   },
   "outputs": [
    {
     "data": {
      "text/plain": [
       "'main'"
      ]
     },
     "execution_count": 25,
     "metadata": {},
     "output_type": "execute_result"
    }
   ],
   "source": [
    "git_repo.git_branch_name"
   ]
  },
  {
   "cell_type": "code",
   "execution_count": 26,
   "id": "0384439b-2552-42fb-b283-59e09adeb921",
   "metadata": {
    "editable": true,
    "slideshow": {
     "slide_type": ""
    },
    "tags": []
   },
   "outputs": [
    {
     "data": {
      "text/plain": [
       "'4753eadf4fbaf1a8c28be2400cb7a0c7ded59170'"
      ]
     },
     "execution_count": 26,
     "metadata": {},
     "output_type": "execute_result"
    }
   ],
   "source": [
    "git_repo.git_commit_id"
   ]
  },
  {
   "cell_type": "code",
   "execution_count": 27,
   "id": "1acac092-8892-4d9d-9605-71384a95e00b",
   "metadata": {
    "editable": true,
    "slideshow": {
     "slide_type": ""
    },
    "tags": []
   },
   "outputs": [
    {
     "data": {
      "text/plain": [
       "'Update docs/source/conf.py file'"
      ]
     },
     "execution_count": 27,
     "metadata": {},
     "output_type": "execute_result"
    }
   ],
   "source": [
    "git_repo.git_commit_message"
   ]
  },
  {
   "cell_type": "code",
   "execution_count": 29,
   "id": "2ae61269-0b23-47a3-b589-fd587fc42c31",
   "metadata": {
    "editable": true,
    "slideshow": {
     "slide_type": ""
    },
    "tags": []
   },
   "outputs": [
    {
     "data": {
      "text/plain": [
       "'main'"
      ]
     },
     "execution_count": 29,
     "metadata": {},
     "output_type": "execute_result"
    }
   ],
   "source": [
    "git_repo.semantic_branch_name"
   ]
  },
  {
   "cell_type": "code",
   "execution_count": 31,
   "id": "14f3f963-f338-4c18-b59d-a4498c70f361",
   "metadata": {
    "editable": true,
    "slideshow": {
     "slide_type": ""
    },
    "tags": []
   },
   "outputs": [
    {
     "data": {
      "text/plain": [
       "True"
      ]
     },
     "execution_count": 31,
     "metadata": {},
     "output_type": "execute_result"
    }
   ],
   "source": [
    "git_repo.is_main_branch"
   ]
  },
  {
   "cell_type": "code",
   "execution_count": 32,
   "id": "fc5a1e2f-dbee-43f3-918a-e10daebee2c6",
   "metadata": {
    "editable": true,
    "slideshow": {
     "slide_type": ""
    },
    "tags": []
   },
   "outputs": [
    {
     "data": {
      "text/plain": [
       "False"
      ]
     },
     "execution_count": 32,
     "metadata": {},
     "output_type": "execute_result"
    }
   ],
   "source": [
    "git_repo.is_feature_branch"
   ]
  },
  {
   "cell_type": "markdown",
   "id": "17350ac8-3ae7-43ef-b439-53e9595057c4",
   "metadata": {
    "editable": true,
    "slideshow": {
     "slide_type": ""
    },
    "tags": []
   },
   "source": [
    "## How to Define What To do on Specific Semantic Branch\n",
    "\n",
    "这个我们在另外的文档中集中说明."
   ]
  },
  {
   "cell_type": "code",
   "execution_count": null,
   "id": "bcd89dce-f2da-47cf-8c79-7072efbed284",
   "metadata": {
    "editable": true,
    "slideshow": {
     "slide_type": ""
    },
    "tags": []
   },
   "outputs": [],
   "source": []
  }
 ],
 "metadata": {
  "kernelspec": {
   "display_name": "Python 3 (ipykernel)",
   "language": "python",
   "name": "python3"
  },
  "language_info": {
   "codemirror_mode": {
    "name": "ipython",
    "version": 3
   },
   "file_extension": ".py",
   "mimetype": "text/x-python",
   "name": "python",
   "nbconvert_exporter": "python",
   "pygments_lexer": "ipython3",
   "version": "3.8.13"
  }
 },
 "nbformat": 4,
 "nbformat_minor": 5
}
