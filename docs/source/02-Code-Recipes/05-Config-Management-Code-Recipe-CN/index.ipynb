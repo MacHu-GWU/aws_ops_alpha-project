{
 "cells": [
  {
   "cell_type": "raw",
   "id": "5aecb35f-f7e6-4000-9c18-daac144720f6",
   "metadata": {
    "editable": true,
    "raw_mimetype": "text/restructuredtext",
    "slideshow": {
     "slide_type": ""
    },
    "tags": []
   },
   "source": [
    ".. _config-management-code-recipe-cn:\n",
    "\n",
    "Config Management Code Recipe (CN)\n",
    "================================================================================\n",
    "示例代码的背景信息请参考 :ref:`centralized-multi-environment-config-management-cn`."
   ]
  },
  {
   "cell_type": "markdown",
   "id": "907c039a-644c-46f3-85b4-b095970e1428",
   "metadata": {
    "editable": true,
    "slideshow": {
     "slide_type": ""
    },
    "tags": []
   },
   "source": [
    "## Declare your Config Schema\n",
    "\n",
    "``aws_ops_alpha`` 提供了一些工具方便你定义你的 Multi environment Config 对象. 下面是一个例子."
   ]
  },
  {
   "cell_type": "code",
   "execution_count": 5,
   "id": "63cf5e24-a334-4920-9578-31d893453a81",
   "metadata": {
    "editable": true,
    "slideshow": {
     "slide_type": ""
    },
    "tags": []
   },
   "outputs": [],
   "source": [
    "# config/define.py module\n",
    "import typing as T\n",
    "import dataclasses\n",
    "from functools import cached_property\n",
    "\n",
    "# import aws_ops_alpha\n",
    "from aws_ops_alpha.api import (\n",
    "    BaseEnv,\n",
    "    BaseConfig,\n",
    ")\n",
    "\n",
    "\n",
    "# split your config field into groups, declare them in different mixin class, \n",
    "# then you can assemble them together.\n",
    "# it can improve your code maintainability.\n",
    "@dataclasses.dataclass\n",
    "class AppMixin:\n",
    "    username: T.Optional[str] = dataclasses.field(default=None)\n",
    "    password: T.Optional[str] = dataclasses.field(default=None)\n",
    "\n",
    "\n",
    "@dataclasses.dataclass\n",
    "class Env(\n",
    "    AppMixin,\n",
    "    BaseEnv,\n",
    "):\n",
    "    pass\n",
    "\n",
    "\n",
    "# Create a reference property to access per-environment config data\n",
    "@dataclasses.dataclass\n",
    "class Config(BaseConfig[Env]):\n",
    "    @classmethod\n",
    "    def get_current_env(cls) -> str:  # pragma: no cover\n",
    "        return detect_current_env()\n",
    "\n",
    "    @cached_property\n",
    "    def sbx(self):  # pragma: no cover\n",
    "        return self.get_env(env_name=\"sbx\")\n",
    "\n",
    "    @cached_property\n",
    "    def tst(self) -> Env:  # pragma: no cover\n",
    "        return self.get_env(env_name=\"tst\")\n",
    "\n",
    "    @cached_property\n",
    "    def prd(self) -> Env:  # pragma: no cover\n",
    "        return self.get_env(env_name=\"prd\")\n",
    "\n",
    "    @cached_property\n",
    "    def env(self) -> Env:\n",
    "        return self.get_env(env_name=self.get_current_env())"
   ]
  },
  {
   "cell_type": "markdown",
   "id": "d42c849c-dda0-4cf7-b337-3595f16ffcc3",
   "metadata": {
    "editable": true,
    "slideshow": {
     "slide_type": ""
    },
    "tags": []
   },
   "source": [
    "## Load Your Config Data.\n",
    "\n",
    "``aws_ops_alpha`` 提供了一套储存 Config 数据的最佳实践. 如果你使用了这套最佳实践, 你可以直接用 ``Config.smart_load`` 方法来读取 config 对象. \n",
    "\n",
    "这套储存 Config 数据的最佳实践的详细规则如下.\n",
    "\n",
    "1. 如果是在 local 本地开发 Runtime 下, 则从 ``path_config_json`` (储存了非敏感 Config 数据, 通常就在 git repo 里面), ``path_config_secret_json`` (储存了敏感数据, 通常在 ``${HOME}`` 目录下).\n",
    "2. 如果是在 CI Runtime 下, 则会先从 Git repo 中的 ``path_config_json`` 读取一部分数据. 目的是为了根据 ``project_name`` 计算出 ``parameter_name`` 的值, 然后根据这个值到 AWS Parameter Store 获得 Config 数据. 因为 ``project_name`` 不是敏感数据, 所以这里我们不需要 ``path_config_secret_json``, 并且我们也不允许将敏感数据放在 CI 环境中.\n",
    "3. 如果是在 App 的 Runtime 下, 则先读取 ``PARAMETER_NAME`` 环境变量的值, 然后根据这个值到 AWS Parameter Store 获得 Config 数据.\n",
    "\n",
    "以下是一个使用了这套最佳实践的真实项目的代码示例."
   ]
  },
  {
   "cell_type": "code",
   "execution_count": null,
   "id": "081c02cc-ee42-4e6a-8453-56fe45ea94c5",
   "metadata": {
    "editable": true,
    "slideshow": {
     "slide_type": ""
    },
    "tags": []
   },
   "outputs": [],
   "source": [
    "# config/load.py module\n",
    "config = Config.smart_load(\n",
    "    runtime=runtime,\n",
    "    env_name_enum_class=EnvNameEnum,\n",
    "    env_class=Env,\n",
    "    path_config_json=paths.path_config_json,\n",
    "    path_config_secret_json=paths.path_config_secret_json,\n",
    "    boto_ses_factory=boto_ses_factory,\n",
    ")"
   ]
  },
  {
   "cell_type": "markdown",
   "id": "99e2ed89-ad44-465b-843e-5f99488cbfc3",
   "metadata": {
    "editable": true,
    "slideshow": {
     "slide_type": ""
    },
    "tags": []
   },
   "source": [
    "如果你希望自定义 Config loading 的方式, 你可以自己手动实现. 下面是一段手动实现 Config 读取的示例代码."
   ]
  },
  {
   "cell_type": "code",
   "execution_count": 13,
   "id": "23c9ada1-d8b9-4440-be3b-3d8647ac8a50",
   "metadata": {
    "editable": true,
    "slideshow": {
     "slide_type": ""
    },
    "tags": []
   },
   "outputs": [],
   "source": [
    "from aws_ops_alpha.api import (\n",
    "    BaseEnvNameEnum,\n",
    ")\n",
    "\n",
    "class EnvNameEnum(BaseEnvNameEnum):\n",
    "    devops = \"devops\"\n",
    "    sbx = \"sbx\"\n",
    "    tst = \"tst\"\n",
    "    prd = \"prd\"\n",
    "\n",
    "    \n",
    "config = Config(\n",
    "    data={\n",
    "        \"_shared\": {\n",
    "            \"*.project_name\": \"simple_lambda\",\n",
    "            \"*.s3uri_artifacts\": \"s3://bmt-app-devops-us-east-1-artifacts/projects/monorepo_aws/simple_lambda/\",\n",
    "            \"*.s3uri_docs\": \"s3://bmt-app-devops-us-east-1-doc-host/projects/monorepo_aws/\",\n",
    "        },\n",
    "        \"devops\": {\n",
    "            \"s3uri_data\": \"s3://bmt-app-devops-us-east-1-data/projects/simple_lambda/\"\n",
    "        },\n",
    "        \"sbx\": {\n",
    "            \"username\": \"sbx.user\",\n",
    "            \"s3uri_data\": \"s3://bmt-app-dev-us-east-1-data/projects/simple_lambda/\"\n",
    "        },\n",
    "        \"tst\": {\n",
    "            \"username\": \"tst.user\",\n",
    "            \"s3uri_data\": \"s3://bmt-app-test-us-east-1-data/projects/simple_lambda/\"\n",
    "        },\n",
    "        \"prd\": {\n",
    "            \"username\": \"prd.user\",\n",
    "            \"s3uri_data\": \"s3://bmt-app-prod-us-east-1-data/projects/simple_lambda/\"\n",
    "        }\n",
    "    },\n",
    "    secret_data={\n",
    "        \"_shared\": {},\n",
    "        \"devops\": {},\n",
    "        \"sbx\": {\n",
    "            \"password\": \"sbx.password\"\n",
    "        },\n",
    "        \"tst\": {\n",
    "            \"password\": \"tst.password\"\n",
    "        },\n",
    "        \"prd\": {\n",
    "            \"password\": \"prd.password\"\n",
    "        }\n",
    "    },\n",
    "    Env=Env,\n",
    "    EnvEnum=EnvNameEnum,\n",
    "    version=\"1\",\n",
    ")"
   ]
  },
  {
   "cell_type": "code",
   "execution_count": 16,
   "id": "8e934e79-ecce-43b5-b2e8-4d28176cbbf6",
   "metadata": {
    "editable": true,
    "slideshow": {
     "slide_type": ""
    },
    "tags": []
   },
   "outputs": [
    {
     "data": {
      "text/plain": [
       "'sbx.user'"
      ]
     },
     "execution_count": 16,
     "metadata": {},
     "output_type": "execute_result"
    }
   ],
   "source": [
    "config.sbx.username"
   ]
  },
  {
   "cell_type": "code",
   "execution_count": 17,
   "id": "cedb8d55-279d-4c3b-a15c-381deb9cf9d9",
   "metadata": {
    "editable": true,
    "slideshow": {
     "slide_type": ""
    },
    "tags": []
   },
   "outputs": [
    {
     "data": {
      "text/plain": [
       "'sbx.password'"
      ]
     },
     "execution_count": 17,
     "metadata": {},
     "output_type": "execute_result"
    }
   ],
   "source": [
    "config.sbx.password"
   ]
  },
  {
   "cell_type": "code",
   "execution_count": 19,
   "id": "ca64cb4e-05f7-4cd3-b307-5dec49f66f53",
   "metadata": {
    "editable": true,
    "slideshow": {
     "slide_type": ""
    },
    "tags": []
   },
   "outputs": [
    {
     "data": {
      "text/plain": [
       "'s3://bmt-app-devops-us-east-1-artifacts/projects/monorepo_aws/simple_lambda/'"
      ]
     },
     "execution_count": 19,
     "metadata": {},
     "output_type": "execute_result"
    }
   ],
   "source": [
    "config.sbx.s3uri_artifacts"
   ]
  },
  {
   "cell_type": "code",
   "execution_count": null,
   "id": "60a5ad8f-2771-44f0-9651-0dcc6055a324",
   "metadata": {
    "editable": true,
    "slideshow": {
     "slide_type": ""
    },
    "tags": []
   },
   "outputs": [],
   "source": []
  }
 ],
 "metadata": {
  "kernelspec": {
   "display_name": "Python 3 (ipykernel)",
   "language": "python",
   "name": "python3"
  },
  "language_info": {
   "codemirror_mode": {
    "name": "ipython",
    "version": 3
   },
   "file_extension": ".py",
   "mimetype": "text/x-python",
   "name": "python",
   "nbconvert_exporter": "python",
   "pygments_lexer": "ipython3",
   "version": "3.8.13"
  }
 },
 "nbformat": 4,
 "nbformat_minor": 5
}
