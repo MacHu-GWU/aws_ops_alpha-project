{
 "cells": [
  {
   "cell_type": "raw",
   "id": "c975a12a-d25f-4b7c-b39e-3eadfb6737b5",
   "metadata": {
    "editable": true,
    "raw_mimetype": "text/restructuredtext",
    "slideshow": {
     "slide_type": ""
    },
    "tags": []
   },
   "source": [
    ".. _code-runtime-code-recipe-cn:\n",
    "\n",
    "Code Runtime Code Recipe(CN)\n",
    "================================================================================\n",
    "示例代码的背景信息请参考 :ref:`semantic-code-runtime-cn`"
   ]
  },
  {
   "cell_type": "markdown",
   "id": "cb4137da-1a59-43cb-83d1-27aec940b852",
   "metadata": {
    "editable": true,
    "slideshow": {
     "slide_type": ""
    },
    "tags": []
   },
   "source": [
    "## Detect Current Runtime In Python\n",
    "\n",
    "之前我们介绍了我们需要能检测出当前所在的 Runtime, 然后根据这个 Runtime 执行不同的业务逻辑, 所以你的代码中需要有一个模块来专门做这件事.\n",
    "\n",
    "``aws_ops_alpha`` 有一个模块 runtime 已经实现了很多自动检测当前 runtime 的逻辑. 你只需要 import 之后使用即可. 然后你就可以使用以下 API 了:\n",
    "\n",
    "- ``Runtime.current_runtime``: 获得当前的 runtime 的名字\n",
    "- ``Runtime.current_runtime_group``: 获得当前 runtime group 的名字\n",
    "- ``Runtime.is_xyz`` or ``Runtime.is_xyz_runtime_group``: 判断当前的 Runtime 是不是某一个指定类型."
   ]
  },
  {
   "cell_type": "code",
   "execution_count": 3,
   "id": "09206c33-2106-4e03-bcf1-9426d261f11c",
   "metadata": {
    "editable": true,
    "slideshow": {
     "slide_type": ""
    },
    "tags": []
   },
   "outputs": [],
   "source": [
    "import aws_ops_alpha.api as aws_ops_alpha\n",
    "\n",
    "runtime = aws_ops_alpha.runtime"
   ]
  },
  {
   "cell_type": "markdown",
   "id": "37ce3308-f121-4754-8409-aa39b3d5090c",
   "metadata": {
    "editable": true,
    "slideshow": {
     "slide_type": ""
    },
    "tags": []
   },
   "source": [
    "Specific Runtime"
   ]
  },
  {
   "cell_type": "code",
   "execution_count": 2,
   "id": "b96ff8c5-7b6b-4c36-a193-516f2e98f794",
   "metadata": {
    "editable": true,
    "slideshow": {
     "slide_type": ""
    },
    "tags": []
   },
   "outputs": [
    {
     "data": {
      "text/plain": [
       "'local'"
      ]
     },
     "execution_count": 2,
     "metadata": {},
     "output_type": "execute_result"
    }
   ],
   "source": [
    "runtime.current_runtime"
   ]
  },
  {
   "cell_type": "code",
   "execution_count": 4,
   "id": "1ce36fc7-4443-4f3b-9579-e5da97a70b13",
   "metadata": {
    "editable": true,
    "slideshow": {
     "slide_type": ""
    },
    "tags": []
   },
   "outputs": [
    {
     "data": {
      "text/plain": [
       "True"
      ]
     },
     "execution_count": 4,
     "metadata": {},
     "output_type": "execute_result"
    }
   ],
   "source": [
    "runtime.is_local"
   ]
  },
  {
   "cell_type": "code",
   "execution_count": 5,
   "id": "3c5777e8-668e-44af-b21c-797f9f2f8c46",
   "metadata": {
    "editable": true,
    "slideshow": {
     "slide_type": ""
    },
    "tags": []
   },
   "outputs": [
    {
     "data": {
      "text/plain": [
       "False"
      ]
     },
     "execution_count": 5,
     "metadata": {},
     "output_type": "execute_result"
    }
   ],
   "source": [
    "runtime.is_github_action"
   ]
  },
  {
   "cell_type": "code",
   "execution_count": 6,
   "id": "7c1a7226-45c8-40a1-8308-a642ed8b3152",
   "metadata": {
    "editable": true,
    "slideshow": {
     "slide_type": ""
    },
    "tags": []
   },
   "outputs": [
    {
     "data": {
      "text/plain": [
       "False"
      ]
     },
     "execution_count": 6,
     "metadata": {},
     "output_type": "execute_result"
    }
   ],
   "source": [
    "runtime.is_aws_lambda"
   ]
  },
  {
   "cell_type": "markdown",
   "id": "8cf6caff-3116-4fc0-8ac0-7cabe79d66cd",
   "metadata": {
    "editable": true,
    "slideshow": {
     "slide_type": ""
    },
    "tags": []
   },
   "source": [
    "Runtime Group"
   ]
  },
  {
   "cell_type": "code",
   "execution_count": 3,
   "id": "d305913b-55ce-41c1-86dc-c65c7c32e739",
   "metadata": {
    "editable": true,
    "slideshow": {
     "slide_type": ""
    },
    "tags": []
   },
   "outputs": [
    {
     "data": {
      "text/plain": [
       "'local'"
      ]
     },
     "execution_count": 3,
     "metadata": {},
     "output_type": "execute_result"
    }
   ],
   "source": [
    "runtime.current_runtime_group"
   ]
  },
  {
   "cell_type": "code",
   "execution_count": 4,
   "id": "7c999fb0-7f84-45a2-9ace-bd386f73eba2",
   "metadata": {
    "editable": true,
    "slideshow": {
     "slide_type": ""
    },
    "tags": []
   },
   "outputs": [
    {
     "data": {
      "text/plain": [
       "True"
      ]
     },
     "execution_count": 4,
     "metadata": {},
     "output_type": "execute_result"
    }
   ],
   "source": [
    "runtime.is_local_runtime_group"
   ]
  },
  {
   "cell_type": "code",
   "execution_count": 5,
   "id": "d1c21a2d-aefe-4950-8bcf-56ee27e48ea6",
   "metadata": {
    "editable": true,
    "slideshow": {
     "slide_type": ""
    },
    "tags": []
   },
   "outputs": [
    {
     "data": {
      "text/plain": [
       "False"
      ]
     },
     "execution_count": 5,
     "metadata": {},
     "output_type": "execute_result"
    }
   ],
   "source": [
    "runtime.is_ci_runtime_group"
   ]
  },
  {
   "cell_type": "code",
   "execution_count": 6,
   "id": "6680d109-8651-49a0-9841-1f6182c379fc",
   "metadata": {
    "editable": true,
    "slideshow": {
     "slide_type": ""
    },
    "tags": []
   },
   "outputs": [
    {
     "data": {
      "text/plain": [
       "False"
      ]
     },
     "execution_count": 6,
     "metadata": {},
     "output_type": "execute_result"
    }
   ],
   "source": [
    "runtime.is_app_runtime_group"
   ]
  },
  {
   "cell_type": "markdown",
   "id": "44f82f0a-6ccb-4dff-a1cd-751ff118f08a",
   "metadata": {
    "editable": true,
    "slideshow": {
     "slide_type": ""
    },
    "tags": []
   },
   "source": [
    "## Customize Runtime Detection\n",
    "\n",
    "如果你的 runtime 检测逻辑和 ``aws_ops_alpha`` 默认的不同, 例如检测是否在 Jenkins 时默认是用 ``BUILD_TAG`` 和 ``EXECUTOR_NUMBER`` 两个环境变量, 而你的 Jenkins 集群配置中使用的是 ``JENKINS_HOME`` 环境变量, 那么你可以 subclass 这个类, 并 override ``def is_jenkins(self):`` 方法, 自己实现对应的逻辑, 并且实例化一个 ``runtime = Runtime()`` 对象即可. 下面给出了一个例子."
   ]
  },
  {
   "cell_type": "code",
   "execution_count": 2,
   "id": "fe54ec8e-8d56-41cc-8579-b0ed4346573c",
   "metadata": {
    "editable": true,
    "slideshow": {
     "slide_type": ""
    },
    "tags": []
   },
   "outputs": [
    {
     "data": {
      "text/plain": [
       "True"
      ]
     },
     "execution_count": 2,
     "metadata": {},
     "output_type": "execute_result"
    }
   ],
   "source": [
    "import os\n",
    "import aws_ops_alpha.api as aws_ops_alpha\n",
    "\n",
    "class Runtime(aws_ops_alpha.Runtime):\n",
    "    @property\n",
    "    def is_jenkins(self) -> bool:\n",
    "        \"\"\"\n",
    "        Reference:\n",
    "\n",
    "        - https://www.jenkins.io/doc/book/pipeline/jenkinsfile/#using-environment-variables\n",
    "        \"\"\"\n",
    "        return \"JENKINS_HOME\" in os.environ\n",
    "        \n",
    "runtime = Runtime()\n",
    "\n",
    "os.environ[\"JENKINS_HOME\"] = \"true\"\n",
    "runtime.is_jenkins"
   ]
  }
 ],
 "metadata": {
  "kernelspec": {
   "display_name": "Python 3 (ipykernel)",
   "language": "python",
   "name": "python3"
  },
  "language_info": {
   "codemirror_mode": {
    "name": "ipython",
    "version": 3
   },
   "file_extension": ".py",
   "mimetype": "text/x-python",
   "name": "python",
   "nbconvert_exporter": "python",
   "pygments_lexer": "ipython3",
   "version": "3.8.13"
  }
 },
 "nbformat": 4,
 "nbformat_minor": 5
}
