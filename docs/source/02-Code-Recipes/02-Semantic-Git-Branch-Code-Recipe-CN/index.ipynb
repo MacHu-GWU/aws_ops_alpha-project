{
 "cells": [
  {
   "cell_type": "raw",
   "id": "6803f149-5c3d-4ef8-9700-962a9c90761a",
   "metadata": {
    "editable": true,
    "raw_mimetype": "text/restructuredtext",
    "slideshow": {
     "slide_type": ""
    },
    "tags": []
   },
   "source": [
    ".. _semantic-git-branching-code-recipe-cn:\n",
    "\n",
    "Semantic Git Branching Code Recipe (CN)\n",
    "================================================================================\n",
    "示例代码的背景信息请参考 :ref:`semantic-git-branching-cn`\n",
    "\n",
    "\n",
    "How to Define My Own Semantic Branching Rules\n",
    "--------------------------------------------------------------------------------\n",
    "之前我们介绍了, 我们可以为自己项目定义一套 Semantic Branching Rule 的规则. 例如 ``feature/...``, ``feat/...`` 对应 Feature Branch.  :class:`aws_ops_alpha.vendor.semantic_branch.SemanticBranchRule` 工具可以让你轻松定义自己的规则, 并且能检测某个 Git branch name 对应着哪个 Semantic branch, 并能判断某个 Git branch name 是不是对应着指定的 Semantic branch. 示例代码如下."
   ]
  },
  {
   "cell_type": "code",
   "execution_count": 5,
   "id": "6c2ccf65-f612-4e18-9094-d012fe44056d",
   "metadata": {
    "editable": true,
    "slideshow": {
     "slide_type": ""
    },
    "tags": []
   },
   "outputs": [],
   "source": [
    "from aws_ops_alpha.api import SemanticBranchRule\n",
    "\n",
    "# key is semantic branch name, value is prefix keywords\n",
    "semantic_branch_rules = {\n",
    "    \"main\": [\"main\", \"master\"],\n",
    "    \"feature\": [\"feature\", \"feat\"],\n",
    "    \"fix\": [\"fix\"],\n",
    "    \"doc\": [\"doc\"],\n",
    "    \"app\": [\"app\"],\n",
    "    \"release\": [\"release\", \"rls\"],\n",
    "    \"cleanup\": [\"cleanup\", \"clean\"],\n",
    "}\n",
    "\n",
    "semantic_branch_rule = SemanticBranchRule(\n",
    "    rules=semantic_branch_rules,\n",
    ")"
   ]
  },
  {
   "cell_type": "code",
   "execution_count": 6,
   "id": "7e849d45-735d-4ae9-af27-90382954ea2a",
   "metadata": {},
   "outputs": [
    {
     "data": {
      "text/plain": [
       "True"
      ]
     },
     "execution_count": 6,
     "metadata": {},
     "output_type": "execute_result"
    }
   ],
   "source": [
    "semantic_branch_rule.is_certain_semantic_branch(git_branch_name=\"feat/f1\", semantic_name=\"feature\")"
   ]
  },
  {
   "cell_type": "code",
   "execution_count": 7,
   "id": "283447aa-65d9-4a2d-bff0-9971844c6da9",
   "metadata": {},
   "outputs": [
    {
     "data": {
      "text/plain": [
       "False"
      ]
     },
     "execution_count": 7,
     "metadata": {},
     "output_type": "execute_result"
    }
   ],
   "source": [
    "semantic_branch_rule.is_certain_semantic_branch(git_branch_name=\"release/2000-01-01\", semantic_name=\"feature\")"
   ]
  },
  {
   "cell_type": "code",
   "execution_count": 9,
   "id": "1af5a6b0-352d-4905-876a-1b7fa9b6e8ee",
   "metadata": {},
   "outputs": [
    {
     "data": {
      "text/plain": [
       "'feature'"
      ]
     },
     "execution_count": 9,
     "metadata": {},
     "output_type": "execute_result"
    }
   ],
   "source": [
    "semantic_branch_rule.parse_semantic_name(git_branch_name=\"feat/f1\")"
   ]
  },
  {
   "cell_type": "code",
   "execution_count": 10,
   "id": "f845a451-dddf-4e57-8a62-ecae4ee22dc9",
   "metadata": {},
   "outputs": [
    {
     "ename": "InvalidSemanticNameError",
     "evalue": "branch 'unknown/f1' doesn't match any semantic name in ['main', 'feature', 'fix', 'doc', 'app', 'release', 'cleanup']",
     "output_type": "error",
     "traceback": [
      "\u001b[0;31m---------------------------------------------------------------------------\u001b[0m",
      "\u001b[0;31mInvalidSemanticNameError\u001b[0m                  Traceback (most recent call last)",
      "Cell \u001b[0;32mIn[10], line 1\u001b[0m\n\u001b[0;32m----> 1\u001b[0m \u001b[43msemantic_branch_rule\u001b[49m\u001b[38;5;241;43m.\u001b[39;49m\u001b[43mparse_semantic_name\u001b[49m\u001b[43m(\u001b[49m\u001b[43mgit_branch_name\u001b[49m\u001b[38;5;241;43m=\u001b[39;49m\u001b[38;5;124;43m\"\u001b[39;49m\u001b[38;5;124;43munknown/f1\u001b[39;49m\u001b[38;5;124;43m\"\u001b[39;49m\u001b[43m)\u001b[49m\n",
      "File \u001b[0;32m~/Documents/GitHub/aws_ops_alpha-project/aws_ops_alpha/vendor/semantic_branch.py:409\u001b[0m, in \u001b[0;36mSemanticBranchRule.parse_semantic_name\u001b[0;34m(self, git_branch_name)\u001b[0m\n\u001b[1;32m    406\u001b[0m         \u001b[38;5;28mself\u001b[39m\u001b[38;5;241m.\u001b[39m_parse_semantic_name_cache[git_branch_name] \u001b[38;5;241m=\u001b[39m semantic_name\n\u001b[1;32m    407\u001b[0m         \u001b[38;5;28;01mreturn\u001b[39;00m semantic_name\n\u001b[0;32m--> 409\u001b[0m \u001b[38;5;28;01mraise\u001b[39;00m InvalidSemanticNameError(\n\u001b[1;32m    410\u001b[0m     \u001b[38;5;124mf\u001b[39m\u001b[38;5;124m\"\u001b[39m\u001b[38;5;124mbranch \u001b[39m\u001b[38;5;132;01m{\u001b[39;00mgit_branch_name\u001b[38;5;132;01m!r}\u001b[39;00m\u001b[38;5;124m doesn\u001b[39m\u001b[38;5;124m'\u001b[39m\u001b[38;5;124mt match any semantic name in \u001b[39m\u001b[38;5;132;01m{\u001b[39;00m\u001b[38;5;28mlist\u001b[39m(\u001b[38;5;28mself\u001b[39m\u001b[38;5;241m.\u001b[39mrules)\u001b[38;5;132;01m!r}\u001b[39;00m\u001b[38;5;124m\"\u001b[39m\n\u001b[1;32m    411\u001b[0m )\n",
      "\u001b[0;31mInvalidSemanticNameError\u001b[0m: branch 'unknown/f1' doesn't match any semantic name in ['main', 'feature', 'fix', 'doc', 'app', 'release', 'cleanup']"
     ]
    }
   ],
   "source": [
    "# This would raises an error\n",
    "semantic_branch_rule.parse_semantic_name(git_branch_name=\"unknown/f1\")"
   ]
  },
  {
   "cell_type": "raw",
   "id": "fb7870bc-d345-49ea-bbc0-f92f468775df",
   "metadata": {
    "editable": true,
    "raw_mimetype": "text/restructuredtext",
    "slideshow": {
     "slide_type": ""
    },
    "tags": []
   },
   "source": [
    "Git Repo Helper\n",
    "--------------------------------------------------------------------------------\n",
    "在 DevOps 中, 我们经常要通过运行一些 git CLI 命令来获得当前 Git 的一些信息, 例如当前的 Branch, 当前的 Commit ID. 在一些特定的 CI 系统中, 我们可能还会用到特殊的 Environment Variable 来获得这些信息. 例如在 GitHub Action 中, 我们 Git Branch 的信息储存在 ``GITHUB_REF_NAME`` 中. 结合前面介绍的 Semantic Branch 的概念, 我们还希望能获得当前的 Semantic Branch Name. :class:`aws_ops_alpha.git.impl.MultiGitRepo` 或 :class:`aws_ops_alpha.git.impl.MonoGitRepo` 封装了这些复杂的逻辑, 使得开发者可以轻松访问这些信息. 这种小工具本质上跟 Jenkins Plugin, GitHub Action Plugin, CircleCI Orb 插件没什么不同. 区别仅仅是 ``aws_ops_alpha`` 是基于 Python 的, 是 CI Agnostic 的, 可以轻松的迁徙到任何 CI 系统中. 而那些插件只能在特定平台上使用."
   ]
  },
  {
   "cell_type": "raw",
   "id": "25cccf03-79c6-42e4-9a92-a33bdf983f02",
   "metadata": {
    "editable": true,
    "pycharm": {
     "name": "#%% raw\n"
    },
    "raw_mimetype": "text/restructuredtext",
    "slideshow": {
     "slide_type": ""
    },
    "tags": []
   },
   "source": [
    "举例来说, 我们希望在任何名字类似于 ``feat``, ``feature/description``, ``feature-123/description`` 的 Git branch 都被视为 :bdg-success:`feature` branch. 而在 feature branch 上我们的 CI 只负责对代码进行 unit test. 什么 artifacts 的构建, deployment 之类的一概不做.  而名字为 ``app/description`` 的 Git branch 被视为 :bdg-warning:`app` branch, 在 app branch 上我们除了进行 unit test, 还会部署 App, 以及进行 integration test.\n",
    "\n",
    "在上面的例子中, :bdg-success:`feature` 和 :bdg-warning:`app` 就是 semantic name, 也就是语义."
   ]
  },
  {
   "cell_type": "code",
   "execution_count": 30,
   "id": "1f72ee34-e3c4-4cdc-a109-f3462c94ceb0",
   "metadata": {
    "editable": true,
    "slideshow": {
     "slide_type": ""
    },
    "tags": []
   },
   "outputs": [],
   "source": [
    "from aws_ops_alpha.api import MultiGitRepo, MonoGitRepo\n",
    "# create git repo object\n",
    "# this demo is based on MultiGitRepo, \n",
    "# if you are using monorepo, pelease use MultiGitRepo, it assume that you use ``${project_name}/${semantic_branch_name}/${optional_description}\n",
    "\n",
    "git_repo = MultiGitRepo(\n",
    "    sem_branch_rule=semantic_branch_rule,\n",
    ")"
   ]
  },
  {
   "cell_type": "code",
   "execution_count": 31,
   "id": "541cd5f6-2287-4dba-92d0-50397d7cd131",
   "metadata": {
    "editable": true,
    "slideshow": {
     "slide_type": ""
    },
    "tags": []
   },
   "outputs": [
    {
     "data": {
      "text/plain": [
       "'main'"
      ]
     },
     "execution_count": 31,
     "metadata": {},
     "output_type": "execute_result"
    }
   ],
   "source": [
    "git_repo.git_branch_name"
   ]
  },
  {
   "cell_type": "code",
   "execution_count": 32,
   "id": "1ed7f702-b8af-493b-a128-b6ade4ef19a3",
   "metadata": {
    "editable": true,
    "slideshow": {
     "slide_type": ""
    },
    "tags": []
   },
   "outputs": [
    {
     "data": {
      "text/plain": [
       "'fc6fb18325298000add56afba1ac7b2dae9717dc'"
      ]
     },
     "execution_count": 32,
     "metadata": {},
     "output_type": "execute_result"
    }
   ],
   "source": [
    "git_repo.git_commit_id"
   ]
  },
  {
   "cell_type": "code",
   "execution_count": 33,
   "id": "ca05f4f8-9cb5-4af0-9aed-1b386e125d81",
   "metadata": {
    "editable": true,
    "slideshow": {
     "slide_type": ""
    },
    "tags": []
   },
   "outputs": [
    {
     "data": {
      "text/plain": [
       "'c'"
      ]
     },
     "execution_count": 33,
     "metadata": {},
     "output_type": "execute_result"
    }
   ],
   "source": [
    "git_repo.git_commit_message"
   ]
  },
  {
   "cell_type": "code",
   "execution_count": 34,
   "id": "6db859b8-2e27-46f3-ada1-9407be5afbcc",
   "metadata": {
    "editable": true,
    "slideshow": {
     "slide_type": ""
    },
    "tags": []
   },
   "outputs": [
    {
     "name": "stdout",
     "output_type": "stream",
     "text": [
      "| Current git branch is 🔀 'main'\n",
      "| Current git commit is # 'fc6fb18325298000add56afba1ac7b2dae9717dc'\n",
      "| Current git commit message is 📜 'c'\n"
     ]
    }
   ],
   "source": [
    "git_repo.print_git_info()"
   ]
  },
  {
   "cell_type": "code",
   "execution_count": 35,
   "id": "50bca39f-9162-4675-a3e2-adeed230e452",
   "metadata": {
    "editable": true,
    "slideshow": {
     "slide_type": ""
    },
    "tags": []
   },
   "outputs": [
    {
     "data": {
      "text/plain": [
       "'main'"
      ]
     },
     "execution_count": 35,
     "metadata": {},
     "output_type": "execute_result"
    }
   ],
   "source": [
    "git_repo.semantic_branch_part"
   ]
  },
  {
   "cell_type": "code",
   "execution_count": 36,
   "id": "5aabe222-a615-4782-860a-f75556daeafb",
   "metadata": {
    "editable": true,
    "slideshow": {
     "slide_type": ""
    },
    "tags": []
   },
   "outputs": [
    {
     "data": {
      "text/plain": [
       "'main'"
      ]
     },
     "execution_count": 36,
     "metadata": {},
     "output_type": "execute_result"
    }
   ],
   "source": [
    "git_repo.semantic_branch_name"
   ]
  },
  {
   "cell_type": "code",
   "execution_count": 37,
   "id": "db2d494a-d425-4bf6-b8ba-cdb17677fba1",
   "metadata": {
    "editable": true,
    "slideshow": {
     "slide_type": ""
    },
    "tags": []
   },
   "outputs": [
    {
     "data": {
      "text/plain": [
       "True"
      ]
     },
     "execution_count": 37,
     "metadata": {},
     "output_type": "execute_result"
    }
   ],
   "source": [
    "git_repo.is_main_branch"
   ]
  },
  {
   "cell_type": "code",
   "execution_count": null,
   "id": "bcd89dce-f2da-47cf-8c79-7072efbed284",
   "metadata": {
    "editable": true,
    "pycharm": {
     "name": "#%%\n"
    },
    "slideshow": {
     "slide_type": ""
    },
    "tags": []
   },
   "outputs": [],
   "source": []
  }
 ],
 "metadata": {
  "kernelspec": {
   "display_name": "Python 3 (ipykernel)",
   "language": "python",
   "name": "python3"
  },
  "language_info": {
   "codemirror_mode": {
    "name": "ipython",
    "version": 3
   },
   "file_extension": ".py",
   "mimetype": "text/x-python",
   "name": "python",
   "nbconvert_exporter": "python",
   "pygments_lexer": "ipython3",
   "version": "3.8.13"
  }
 },
 "nbformat": 4,
 "nbformat_minor": 5
}
