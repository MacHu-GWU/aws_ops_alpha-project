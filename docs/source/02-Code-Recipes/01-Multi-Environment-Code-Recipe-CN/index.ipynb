{
 "cells": [
  {
   "cell_type": "raw",
   "id": "3d6686af-4e1f-4884-ac4d-f0e756b9f739",
   "metadata": {
    "editable": true,
    "pycharm": {
     "name": "#%% raw\n"
    },
    "raw_mimetype": "text/restructuredtext",
    "slideshow": {
     "slide_type": ""
    },
    "tags": []
   },
   "source": [
    ".. _multi-environment-code-recipe-cn:\n",
    "\n",
    "Multi Environment Code Recipe (CN)\n",
    "================================================================================\n",
    "\n",
    "示例代码的背景信息请参考 :ref:`multi-environment-deployment-cn`"
   ]
  },
  {
   "cell_type": "markdown",
   "id": "d295cc89-a835-43eb-8de5-a3fbd0c993b8",
   "metadata": {
    "editable": true,
    "pycharm": {
     "name": "#%% md\n"
    },
    "slideshow": {
     "slide_type": ""
    },
    "tags": []
   },
   "source": [
    "## Declare Environment Enumeration\n",
    "\n",
    "``aws_ops_alpha`` 项目提供了一个抽象层, 用户可以使用任何自己喜欢的策略.\n",
    "\n",
    "我推荐在你的项目代码中创建一个 ``multi_env.py`` 模块 (模块的名称不重要, 有这个模块就行), 用于定义你项目所使用的环境的枚举. 当然, 你需要遵循限制, 至少定义 ``devops``, ``sbx``, ``prd`` 三个环境. 在这个例子中, 我们除了必须的三个环境, 还定义了 ``tst``, ``stg`` 两个环境. 示例代码如下."
   ]
  },
  {
   "cell_type": "code",
   "execution_count": 1,
   "id": "aa353631-f09f-42c2-bd2a-9eee4ee83cdb",
   "metadata": {
    "editable": true,
    "pycharm": {
     "name": "#%%\n"
    },
    "slideshow": {
     "slide_type": ""
    },
    "tags": []
   },
   "outputs": [],
   "source": [
    "# content of multi_env.py\n",
    "import aws_ops_alpha.api as aws_ops_alpha\n",
    "\n",
    "class EnvNameEnum(aws_ops_alpha.BaseEnvNameEnum):\n",
    "    \"\"\"\n",
    "    Environment enumeration for your project.\n",
    "    \"\"\"\n",
    "\n",
    "    devops = aws_ops_alpha.CommonEnvNameEnum.devops.value # or you can just do: devops = \"devops\"\n",
    "    sbx = aws_ops_alpha.CommonEnvNameEnum.sbx.value\n",
    "    tst = aws_ops_alpha.CommonEnvNameEnum.tst.value\n",
    "    stg = aws_ops_alpha.CommonEnvNameEnum.stg.value\n",
    "    prd = aws_ops_alpha.CommonEnvNameEnum.prd.value"
   ]
  },
  {
   "cell_type": "markdown",
   "id": "333955b1-1537-485b-a22b-a1719001d8ff",
   "metadata": {
    "pycharm": {
     "name": "#%% md\n"
    }
   },
   "source": [
    "然后, 你就可以用这个 ``EnvNameEnum`` 类做一些 \"判断\", \"循环\" 等操作了."
   ]
  },
  {
   "cell_type": "code",
   "execution_count": 3,
   "id": "4efde5a7-b892-493a-b899-3aad1a7d0430",
   "metadata": {
    "pycharm": {
     "name": "#%%\n"
    }
   },
   "outputs": [
    {
     "name": "stdout",
     "output_type": "stream",
     "text": [
      "True\n",
      "True\n"
     ]
    }
   ],
   "source": [
    "# if test\n",
    "current_env_name = \"sbx\"\n",
    "print(current_env_name == EnvNameEnum.sbx)\n",
    "print(current_env_name == EnvNameEnum.sbx.value)"
   ]
  },
  {
   "cell_type": "code",
   "execution_count": 4,
   "id": "cbad426e-ae55-4a57-b86e-fd31ab32bd95",
   "metadata": {
    "pycharm": {
     "name": "#%%\n"
    }
   },
   "outputs": [
    {
     "name": "stdout",
     "output_type": "stream",
     "text": [
      "deploy to sbx environment ...\n",
      "deploy to tst environment ...\n",
      "deploy to stg environment ...\n",
      "deploy to prd environment ...\n"
     ]
    }
   ],
   "source": [
    "# for loop, deploy something to all environment\n",
    "for env_name in EnvNameEnum:\n",
    "    if env_name != EnvNameEnum.devops:\n",
    "        print(f\"deploy to {env_name} environment ...\")"
   ]
  },
  {
   "cell_type": "markdown",
   "id": "7883d24e-53e7-4f02-8e8d-6fa5bd23aeec",
   "metadata": {
    "editable": true,
    "pycharm": {
     "name": "#%% md\n"
    },
    "slideshow": {
     "slide_type": ""
    },
    "tags": []
   },
   "source": [
    "## Detect the Current Environment Name\n",
    "\n",
    "在 \"Multi Environment Deployment (CN)\" 一文中我们介绍了我们所推荐的获得当前 Environment Name 的方法. 诚然, 我们可以按照介绍的方法用 ``current_env_name = os.envrion[\"ENV_NAME\"]`` 的方式获得 ``current_env_name``, 但实际项目中的情况往往比这个复杂. 例如:\n",
    "\n",
    "1. 在本地的时候, 难道你要每次在运行代码之前, 手动在 Terminal 中输入 ``export ENV_NAME=sbx`` 来切换环境吗? 万一一个不小心切到了 ``prd`` 忘记切换回来怎么办?\n",
    "2. 在 CI 环境中, 你在运行一个 Job 的过程中可能要依次跟多个环境打交道, 但一个 Job 的 ``ENV_NAME`` 环境变量只能有一个值, 你如何能确保执行到某个代码片段的时候能确保 ``current_env_name`` 正确呢?\n",
    "\n",
    "此外还有很多细微的地方可能出 bug. 为了避免在代码库中导出出现判断当前 ``env_name`` 的逻辑, 我们应该将这个判断过程封装成一个函数, 也可以将这个函数的返回值保存为一个可以被反复引用的变量作为缓存. 举例来说, 在 local 本地开发 runtime 下, 如果没有特殊指定, 我们默认使用 sandbox 环境进行开发, 所以这个函数永远返回 ``sbx``. 而在 CI runtime 下, 我们可以用 ``USER_ENV_NAME`` + ``ENV_NAME`` 两个环境变量来指定该用哪个环境 (请参考 \"Multi Environment Deployment (CN)\" 一文中的介绍), 而在 App 的 runtime 下, 例如 EC2 可以用本地的配置文件来读取环境, Lambda Function 可以用 environment variables 来读. 总之在特定项目中是必然有一套约定的, 所以我们只要将这个约定用 ``detect_current_env`` 函数实现了即可. 这样避免了重复的条件判断逻辑在代码库中到处都是, 大大提高了代码的可读性和可维护性."
   ]
  },
  {
   "cell_type": "raw",
   "id": "13c54716-d5ed-4c21-a290-4701b23cd5fb",
   "metadata": {
    "editable": true,
    "pycharm": {
     "name": "#%% raw\n"
    },
    "raw_mimetype": "text/restructuredtext",
    "slideshow": {
     "slide_type": ""
    },
    "tags": []
   },
   "source": [
    "本项目的 :func:`~aws_ops_alpha.multi_env.impl.detect_current_env` 函数实现了一套本项目认为最优的一套约定. 我推荐你直接使用这一函数获得 ``current_env_name``, 并遵循这一套约定. 如果你不想遵循这一套约定, 你可以在 ``multi_env.py`` 模块中也实现一个自己的 ``detect_current_env`` 函数.\n",
    "\n",
    ".. note::\n",
    "\n",
    "    本项目认为的最优的约定的详细说明如下\n",
    "\n",
    "    1. 如果是 local runtime, 我们默认使用 ``sbx``, 但是用户可以通过设定 ``USER_ENV_NAME`` 环境变量来覆盖它.\n",
    "    2. 如果是 ci runtime 或是 app runtime, 我们先去找 ``USER_ENV_NAME``, 如果没找到, 我们再去找 ``ENV_NAME``. 这个设计是让我们将默认环境放在 ``ENV_NAME`` 中, 但同时又提供了 ``USER_ENV_NAME`` 可以让我们强行指定, 提高了灵活性."
   ]
  },
  {
   "cell_type": "markdown",
   "id": "fbe2cd0b-5ced-4ff1-8539-110ad29a9eee",
   "metadata": {
    "editable": true,
    "pycharm": {
     "name": "#%% md\n"
    },
    "slideshow": {
     "slide_type": ""
    },
    "tags": []
   },
   "source": [
    "最终你的 ``multi_env.py`` 代码看起来应该像这样."
   ]
  },
  {
   "cell_type": "code",
   "execution_count": null,
   "id": "8a8896f7-e872-44c6-ab9b-4c50fd0257e2",
   "metadata": {
    "editable": true,
    "pycharm": {
     "name": "#%%\n"
    },
    "slideshow": {
     "slide_type": ""
    },
    "tags": []
   },
   "outputs": [],
   "source": [
    "# content of multi_env.py\n",
    "import aws_ops_alpha.api as aws_ops_alpha\n",
    "# import your runtime module\n",
    "from .your_project_runtime_module import runtime\n",
    "\n",
    "\n",
    "class EnvNameEnum(aws_ops_alpha.BaseEnvNameEnum):\n",
    "    \"\"\"\n",
    "    Environment enumeration for your project.\n",
    "    \"\"\"\n",
    "\n",
    "    devops = aws_ops_alpha.CommonEnvNameEnum.devops.value # or you can just do: devops = \"devops\"\n",
    "    sbx = aws_ops_alpha.CommonEnvNameEnum.sbx.value\n",
    "    tst = aws_ops_alpha.CommonEnvNameEnum.tst.value\n",
    "    stg = aws_ops_alpha.CommonEnvNameEnum.stg.value\n",
    "    prd = aws_ops_alpha.CommonEnvNameEnum.prd.value\n",
    "\n",
    "\n",
    "def detect_current_env() -> str:\n",
    "    # ----------------------------------------------------------------------\n",
    "    # you can uncomment this line to force to use certain env\n",
    "    # from your local laptop to run application code, tests, ...\n",
    "    # ----------------------------------------------------------------------\n",
    "    # return EnvNameEnum.prd.value\n",
    "\n",
    "    # use the aws_ops_alpha recommended setup\n",
    "    return aws_ops_alpha.detect_current_env(runtime, EnvNameEnum)"
   ]
  },
  {
   "cell_type": "markdown",
   "id": "1e5c59c6",
   "metadata": {
    "collapsed": false,
    "jupyter": {
     "outputs_hidden": false
    },
    "pycharm": {
     "name": "#%% md\n"
    }
   },
   "source": [
    "## Environment Aware App Logic\n",
    "\n",
    "好了, 我们现在有了 ``multi_env.py`` 模块. 那么在其他的业务逻辑代码中要如何使用这个模块呢?\n",
    "\n",
    "我们来看下面这个 \"用于读取 config 数据\" 的业务逻辑的例子. 我们的代码可能运行在 ``sbx``, ``prd`` 任何一个环境下. 我们希望 ``sbx`` 只读 ``sbx`` 的 config, ``prd`` 只读 ``prd`` 的 config, 不能混淆了. 在下面的示例代码中, 我们先用 ``detect_current_env()`` 函数获得当前的环境名称, 然后根据环境名称找到对应的 AWS Parameter Store 并读取 Config. 在实际项目中, 很多业务逻辑都需要知道当前的 ``env_name``. 例如需要根据 ``env_name`` 跟位于同一个环境下的其他系统通信. 我详细看了这个例子之后你可以举一反三, 写出例如 ``def call_api_in_another_project(env_name: str):`` 这样的函数了."
   ]
  },
  {
   "cell_type": "code",
   "execution_count": null,
   "id": "85e63822",
   "metadata": {
    "collapsed": false,
    "jupyter": {
     "outputs_hidden": false
    },
    "pycharm": {
     "name": "#%%\n"
    }
   },
   "outputs": [],
   "source": [
    "import typing as T\n",
    "from path.to.multi_env import EnvNameEnum, detect_current_env\n",
    "\n",
    "def load_config(\n",
    "    env_name: T.Optional[str] = None,\n",
    "):\n",
    "    if env_name is None:\n",
    "        env_name = detect_current_env()\n",
    "    # then load config data of the given environment name\n",
    "    param_name = env_name\n",
    "    response = boto3.client(\"ssm\").get_parameter(Parameter=param_name)\n",
    "    ..."
   ]
  },
  {
   "cell_type": "code",
   "execution_count": null,
   "id": "5c865487-dcbb-4872-9c5e-0a949e3e3443",
   "metadata": {
    "editable": true,
    "pycharm": {
     "name": "#%%\n"
    },
    "slideshow": {
     "slide_type": ""
    },
    "tags": []
   },
   "outputs": [],
   "source": []
  }
 ],
 "metadata": {
  "kernelspec": {
   "display_name": "Python 3 (ipykernel)",
   "language": "python",
   "name": "python3"
  },
  "language_info": {
   "codemirror_mode": {
    "name": "ipython",
    "version": 3
   },
   "file_extension": ".py",
   "mimetype": "text/x-python",
   "name": "python",
   "nbconvert_exporter": "python",
   "pygments_lexer": "ipython3",
   "version": "3.8.13"
  }
 },
 "nbformat": 4,
 "nbformat_minor": 5
}