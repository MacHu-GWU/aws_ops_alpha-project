{
 "cells": [
  {
   "cell_type": "raw",
   "id": "edb2fd96-701c-4ac9-9157-b01422b2ce0b",
   "metadata": {
    "editable": true,
    "raw_mimetype": "text/restructuredtext",
    "slideshow": {
     "slide_type": ""
    },
    "tags": []
   },
   "source": [
    ".. _rule-set-cn:\n",
    "\n",
    "Rule Set (CN)\n",
    "================================================================================\n",
    "在之前的文章中我们介绍了 :ref:`multi-environment-deployment-cn`, :ref:`code-runtime-cn`, :ref:`semantic-git-branching-cn` 的概念. 我们分别用 env_name, runtime, semantic_branch_name 来指代. 而在 AWS 项目的 DevOps 流程中, 会有很多 Step (步骤). 例如 run unit test, build artifacts, deploy CloudFormation stack 等. 而这些 Step 是否真的要执行则是由 env_name, runtime, semantic_branch_name 的组合来决定的. 所以这些 Step 也叫做 Conditional Step.\n",
    "\n",
    "举个例子, 我们在一个 AWS Lambda 项目中, 在 ``semantic_branch_name = feature``, ``env_name = sbx``, ``runtime = ci`` 的时候我们希望运行 ``step = Unit Test``. 但是我们没有必要运行 ``step = Build Lambda Layer``, 因为 Lambda Layer 依赖层的构建比较费时间, 并且不是一个高频需求, 所以我们决定只在 ``semantic_branch_name = layer`` 的时候做.\n",
    "\n",
    "**Truth Table**\n",
    "\n",
    "由上面的描述可知, 我们每一个 DevOps step 都依赖于三个维度来决定到底要不要做. 如果我们用 if else 这样的逻辑来实现 Conditional Step, 代码会变得非常难以维护. 所以我们会使用 `tt4human <https://github.com/MacHu-GWU/tt4human-project>`_ 这个 Truth Table 项目来管理 Conditional Step 的逻辑. 其本质就是在 Excel 表格中把所有的维度的排列组合列出来, 然后定义在各种情况下要不要运行这个 Step.\n",
    "\n",
    "**Example**\n",
    "\n",
    "- :mod:`aws_ops_alpha.project.simple_python.simple_python_truth_table` and :mod:`aws_ops_alpha.project.simple_python.rule_set`: 跟 Python 有关的 Step 的 rule set.\n",
    "- :mod:`aws_ops_alpha.project.simple_config.simple_config_truth_table` and :mod:`aws_ops_alpha.project.simple_config.rule_set`: 跟 Config 有关的 Step 的 rule set.\n",
    "- :mod:`aws_ops_alpha.project.simple_cdk.simple_cdk_truth_table` and :mod:`aws_ops_alpha.project.simple_cdk.rule_set`: 跟 AWS CDK 有关的 Step 的 rule set.\n",
    "- :mod:`aws_ops_alpha.project.simple_lambda.simple_lambda_truth_table` and :mod:`aws_ops_alpha.project.simple_lambda.rule_set`: 跟 AWS Lambda 有关的 Step 的 rule set."
   ]
  },
  {
   "cell_type": "code",
   "execution_count": null,
   "id": "6b25558f-cc5e-4a18-b200-56c1f3a0bdf6",
   "metadata": {
    "editable": true,
    "slideshow": {
     "slide_type": ""
    },
    "tags": []
   },
   "outputs": [],
   "source": []
  }
 ],
 "metadata": {
  "kernelspec": {
   "display_name": "Python 3 (ipykernel)",
   "language": "python",
   "name": "python3"
  },
  "language_info": {
   "codemirror_mode": {
    "name": "ipython",
    "version": 3
   },
   "file_extension": ".py",
   "mimetype": "text/x-python",
   "name": "python",
   "nbconvert_exporter": "python",
   "pygments_lexer": "ipython3",
   "version": "3.8.13"
  }
 },
 "nbformat": 4,
 "nbformat_minor": 5
}
