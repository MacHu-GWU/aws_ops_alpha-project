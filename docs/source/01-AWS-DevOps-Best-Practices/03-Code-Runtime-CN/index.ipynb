{
 "cells": [
  {
   "cell_type": "raw",
   "id": "c975a12a-d25f-4b7c-b39e-3eadfb6737b5",
   "metadata": {
    "editable": true,
    "raw_mimetype": "text/restructuredtext",
    "slideshow": {
     "slide_type": ""
    },
    "tags": []
   },
   "source": [
    ".. _code-runtime-cn:\n",
    "\n",
    "Code Runtime (CN)\n",
    "================================================================================"
   ]
  },
  {
   "cell_type": "markdown",
   "id": "cb4137da-1a59-43cb-83d1-27aec940b852",
   "metadata": {
    "editable": true,
    "slideshow": {
     "slide_type": ""
    },
    "tags": []
   },
   "source": [
    "Code Runtime 指的是你的代码运行时所处的计算环境. 例如是在 laptop 上? 还是在 CI 的环境中? 还是在 AWS 计算环境中 (例如 Lambda)? 我们的代码逻辑需要知道自己当前所在的 Runtime 才能使用不同的逻辑分支来进行工作. 例如你要读一个数据库密码, 在 laptop 上你可能直接去本地文件读了, 在 CI 的环境中你可能会去 Environment Variable 中读, 在 AWS 的计算环境中你可能会去 Parameter Store 读. 所以你的代码中需要有一个模块能检测到当前的 Runtime, 然后用 if else 或者 match 来决定具体的操作."
   ]
  },
  {
   "cell_type": "markdown",
   "id": "342cf19f-bb82-4f7c-ba05-890c7a817836",
   "metadata": {
    "editable": true,
    "slideshow": {
     "slide_type": ""
    },
    "tags": []
   },
   "source": [
    "``aws_ops_alpha`` 有一个模块 runtime 已经实现了很多自动检测当前 runtime 的逻辑. 你只需要 import 之后使用即可. 当然, 如果你的 runtime 检测逻辑和默认的不同, 例如默认是用 ``BUILD_TAG`` 和 ``EXECUTOR_NUMBER`` 两个环境变量检测是不是在 Jenkins 中的. 如果你的检测方式不同, 那么你可以 override 这个类, 自己实现对应的逻辑, 并且实例化一个 ``runtime = Runtime()`` 对象即可.\n",
    "\n",
    "```python\n",
    "class Runtime:\n",
    "    ...\n",
    "    @cached_property\n",
    "    def is_jenkins(self) -> bool:\n",
    "        \"\"\"\n",
    "        Reference:\n",
    "\n",
    "        - https://www.jenkins.io/doc/book/pipeline/jenkinsfile/#using-environment-variables\n",
    "        \"\"\"\n",
    "        if _check_user_env_var(RunTimeEnum.jenkins.value):  # pragma: no cover\n",
    "            return True\n",
    "        return \"BUILD_TAG\" in os.environ and \"EXECUTOR_NUMBER\" in os.environ\n",
    "```\n",
    "\n",
    "下面的例子展示了无需修改, 直接 import 的使用方法."
   ]
  },
  {
   "cell_type": "code",
   "execution_count": 2,
   "id": "09206c33-2106-4e03-bcf1-9426d261f11c",
   "metadata": {
    "editable": true,
    "slideshow": {
     "slide_type": ""
    },
    "tags": []
   },
   "outputs": [],
   "source": [
    "import aws_ops_alpha.api as aws_ops_alpha\n",
    "\n",
    "runtime = aws_ops_alpha.runtime"
   ]
  },
  {
   "cell_type": "code",
   "execution_count": 4,
   "id": "b96ff8c5-7b6b-4c36-a193-516f2e98f794",
   "metadata": {
    "editable": true,
    "slideshow": {
     "slide_type": ""
    },
    "tags": []
   },
   "outputs": [
    {
     "data": {
      "text/plain": [
       "'local'"
      ]
     },
     "execution_count": 4,
     "metadata": {},
     "output_type": "execute_result"
    }
   ],
   "source": [
    "runtime.current_runtime"
   ]
  },
  {
   "cell_type": "code",
   "execution_count": 5,
   "id": "d305913b-55ce-41c1-86dc-c65c7c32e739",
   "metadata": {
    "editable": true,
    "slideshow": {
     "slide_type": ""
    },
    "tags": []
   },
   "outputs": [
    {
     "data": {
      "text/plain": [
       "'local'"
      ]
     },
     "execution_count": 5,
     "metadata": {},
     "output_type": "execute_result"
    }
   ],
   "source": [
    "runtime.current_runtime_group"
   ]
  },
  {
   "cell_type": "code",
   "execution_count": 6,
   "id": "1ce36fc7-4443-4f3b-9579-e5da97a70b13",
   "metadata": {
    "editable": true,
    "slideshow": {
     "slide_type": ""
    },
    "tags": []
   },
   "outputs": [
    {
     "data": {
      "text/plain": [
       "True"
      ]
     },
     "execution_count": 6,
     "metadata": {},
     "output_type": "execute_result"
    }
   ],
   "source": [
    "runtime.is_local"
   ]
  },
  {
   "cell_type": "code",
   "execution_count": 8,
   "id": "3c5777e8-668e-44af-b21c-797f9f2f8c46",
   "metadata": {
    "editable": true,
    "slideshow": {
     "slide_type": ""
    },
    "tags": []
   },
   "outputs": [
    {
     "data": {
      "text/plain": [
       "False"
      ]
     },
     "execution_count": 8,
     "metadata": {},
     "output_type": "execute_result"
    }
   ],
   "source": [
    "runtime.is_github_action"
   ]
  },
  {
   "cell_type": "code",
   "execution_count": 9,
   "id": "7c1a7226-45c8-40a1-8308-a642ed8b3152",
   "metadata": {
    "editable": true,
    "slideshow": {
     "slide_type": ""
    },
    "tags": []
   },
   "outputs": [
    {
     "data": {
      "text/plain": [
       "False"
      ]
     },
     "execution_count": 9,
     "metadata": {},
     "output_type": "execute_result"
    }
   ],
   "source": [
    "runtime.is_aws_lambda"
   ]
  },
  {
   "cell_type": "markdown",
   "id": "23474847-3fc1-4855-9a5e-e844a90d9e76",
   "metadata": {
    "editable": true,
    "slideshow": {
     "slide_type": ""
    },
    "tags": []
   },
   "source": [
    "下面的例子展示了自定义 Runtime 检测逻辑的使用方法."
   ]
  },
  {
   "cell_type": "code",
   "execution_count": 10,
   "id": "fe54ec8e-8d56-41cc-8579-b0ed4346573c",
   "metadata": {
    "editable": true,
    "slideshow": {
     "slide_type": ""
    },
    "tags": []
   },
   "outputs": [
    {
     "data": {
      "text/plain": [
       "False"
      ]
     },
     "execution_count": 10,
     "metadata": {},
     "output_type": "execute_result"
    }
   ],
   "source": [
    "import os\n",
    "import aws_ops_alpha.api as aws_ops_alpha\n",
    "\n",
    "class Runtime(aws_ops_alpha.Runtime):\n",
    "    @property\n",
    "    def is_local(self) -> bool:\n",
    "        return \"IS_LOCAL\" in os.environ\n",
    "\n",
    "runtime = Runtime()\n",
    "runtime.is_local"
   ]
  },
  {
   "cell_type": "code",
   "execution_count": null,
   "id": "f1a88c42-52e8-4128-8714-e09200a16c60",
   "metadata": {
    "editable": true,
    "slideshow": {
     "slide_type": ""
    },
    "tags": []
   },
   "outputs": [],
   "source": []
  }
 ],
 "metadata": {
  "kernelspec": {
   "display_name": "Python 3 (ipykernel)",
   "language": "python",
   "name": "python3"
  },
  "language_info": {
   "codemirror_mode": {
    "name": "ipython",
    "version": 3
   },
   "file_extension": ".py",
   "mimetype": "text/x-python",
   "name": "python",
   "nbconvert_exporter": "python",
   "pygments_lexer": "ipython3",
   "version": "3.8.13"
  }
 },
 "nbformat": 4,
 "nbformat_minor": 5
}
